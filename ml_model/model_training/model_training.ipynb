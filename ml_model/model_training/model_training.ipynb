{
 "cells": [
  {
   "cell_type": "markdown",
   "id": "c59c8598",
   "metadata": {},
   "source": [
    "# Initialization"
   ]
  },
  {
   "cell_type": "code",
   "execution_count": 1,
   "id": "111b3516",
   "metadata": {},
   "outputs": [],
   "source": [
    "# Data processing\n",
    "import pandas as pd\n",
    "import numpy as np\n",
    "\n",
    "# Machine Learning\n",
    "from sklearn.model_selection import train_test_split\n",
    "from sklearn.linear_model import LogisticRegression\n",
    "from sklearn.pipeline import Pipeline\n",
    "from sklearn.metrics import accuracy_score\n",
    "from sklearn.metrics import plot_confusion_matrix,classification_report\n",
    "\n",
    "# Visualization\n",
    "from matplotlib import pyplot as plt\n",
    "import seaborn as sns\n",
    "# Various\n",
    "from datetime import datetime\n",
    "import csv"
   ]
  },
  {
   "cell_type": "code",
   "execution_count": 2,
   "id": "3bfce99d",
   "metadata": {},
   "outputs": [],
   "source": [
    "with open('test.csv', newline='') as csvfile:\n",
    "    spamreader = csv.reader(csvfile, delimiter=',')\n",
    "    data = []\n",
    "    for row in spamreader:\n",
    "        data.append(''.join(row))"
   ]
  },
  {
   "cell_type": "code",
   "execution_count": 3,
   "id": "fe3b793c",
   "metadata": {},
   "outputs": [],
   "source": [
    "#Processing of data\n",
    "d = []\n",
    "import ast\n",
    "for i in range(0,len(data)):\n",
    "    x = data[i]\n",
    "    x = ast.literal_eval(x)\n",
    "    d.append(x)"
   ]
  },
  {
   "cell_type": "code",
   "execution_count": 4,
   "id": "b43cab21",
   "metadata": {},
   "outputs": [],
   "source": [
    "df = pd.DataFrame(np.array(d))"
   ]
  },
  {
   "cell_type": "code",
   "execution_count": 5,
   "id": "101e7fbc",
   "metadata": {},
   "outputs": [],
   "source": [
    "new_header = df.iloc[0] #grab the first row for the header\n",
    "df = df[1:] #take the data less the header row\n",
    "df.columns = new_header #set the header row as the df header"
   ]
  },
  {
   "cell_type": "code",
   "execution_count": 207,
   "id": "64ce71cf",
   "metadata": {},
   "outputs": [
    {
     "data": {
      "text/plain": [
       "0\n",
       "f1         -0.0070636994\n",
       "f2          -0.021031559\n",
       "f3            0.01198425\n",
       "f4           -0.08468504\n",
       "f5           0.008165191\n",
       "               ...      \n",
       "f309         0.082952134\n",
       "f310        -0.009797835\n",
       "f311        -0.015792351\n",
       "f312        -0.076450646\n",
       "content     acquaintance\n",
       "Name: 2, Length: 313, dtype: object"
      ]
     },
     "execution_count": 207,
     "metadata": {},
     "output_type": "execute_result"
    }
   ],
   "source": [
    "df.iloc[0]"
   ]
  },
  {
   "cell_type": "code",
   "execution_count": 187,
   "id": "795fe296",
   "metadata": {},
   "outputs": [
    {
     "data": {
      "text/html": [
       "<div>\n",
       "<style scoped>\n",
       "    .dataframe tbody tr th:only-of-type {\n",
       "        vertical-align: middle;\n",
       "    }\n",
       "\n",
       "    .dataframe tbody tr th {\n",
       "        vertical-align: top;\n",
       "    }\n",
       "\n",
       "    .dataframe thead th {\n",
       "        text-align: right;\n",
       "    }\n",
       "</style>\n",
       "<table border=\"1\" class=\"dataframe\">\n",
       "  <thead>\n",
       "    <tr style=\"text-align: right;\">\n",
       "      <th></th>\n",
       "      <th>f1</th>\n",
       "      <th>f2</th>\n",
       "      <th>f3</th>\n",
       "      <th>f4</th>\n",
       "      <th>f5</th>\n",
       "      <th>f6</th>\n",
       "      <th>f7</th>\n",
       "      <th>f8</th>\n",
       "      <th>f9</th>\n",
       "      <th>f10</th>\n",
       "      <th>...</th>\n",
       "      <th>f304</th>\n",
       "      <th>f305</th>\n",
       "      <th>f306</th>\n",
       "      <th>f307</th>\n",
       "      <th>f308</th>\n",
       "      <th>f309</th>\n",
       "      <th>f310</th>\n",
       "      <th>f311</th>\n",
       "      <th>f312</th>\n",
       "      <th>content</th>\n",
       "    </tr>\n",
       "  </thead>\n",
       "  <tbody>\n",
       "    <tr>\n",
       "      <th>count</th>\n",
       "      <td>999</td>\n",
       "      <td>999</td>\n",
       "      <td>999</td>\n",
       "      <td>999</td>\n",
       "      <td>999</td>\n",
       "      <td>999</td>\n",
       "      <td>999</td>\n",
       "      <td>999</td>\n",
       "      <td>999</td>\n",
       "      <td>999</td>\n",
       "      <td>...</td>\n",
       "      <td>999</td>\n",
       "      <td>999</td>\n",
       "      <td>999</td>\n",
       "      <td>999</td>\n",
       "      <td>999</td>\n",
       "      <td>999</td>\n",
       "      <td>999</td>\n",
       "      <td>999</td>\n",
       "      <td>999</td>\n",
       "      <td>999</td>\n",
       "    </tr>\n",
       "    <tr>\n",
       "      <th>unique</th>\n",
       "      <td>995</td>\n",
       "      <td>995</td>\n",
       "      <td>995</td>\n",
       "      <td>995</td>\n",
       "      <td>995</td>\n",
       "      <td>995</td>\n",
       "      <td>995</td>\n",
       "      <td>995</td>\n",
       "      <td>995</td>\n",
       "      <td>995</td>\n",
       "      <td>...</td>\n",
       "      <td>995</td>\n",
       "      <td>995</td>\n",
       "      <td>995</td>\n",
       "      <td>995</td>\n",
       "      <td>995</td>\n",
       "      <td>995</td>\n",
       "      <td>995</td>\n",
       "      <td>995</td>\n",
       "      <td>994</td>\n",
       "      <td>9</td>\n",
       "    </tr>\n",
       "    <tr>\n",
       "      <th>top</th>\n",
       "      <td>0.0035946427</td>\n",
       "      <td>-0.06233317</td>\n",
       "      <td>-0.0028766212</td>\n",
       "      <td>-0.09204614</td>\n",
       "      <td>0.04823146</td>\n",
       "      <td>0.012077088</td>\n",
       "      <td>-0.01132093</td>\n",
       "      <td>-0.017875532</td>\n",
       "      <td>-0.0048587644</td>\n",
       "      <td>-0.08030733</td>\n",
       "      <td>...</td>\n",
       "      <td>0.11977875</td>\n",
       "      <td>0.0052645686</td>\n",
       "      <td>-0.05049079</td>\n",
       "      <td>0.029357938</td>\n",
       "      <td>-0.029485706</td>\n",
       "      <td>-0.059161615</td>\n",
       "      <td>0.022147877</td>\n",
       "      <td>0.03670913</td>\n",
       "      <td>-0.026194142</td>\n",
       "      <td>acquaintance</td>\n",
       "    </tr>\n",
       "    <tr>\n",
       "      <th>freq</th>\n",
       "      <td>2</td>\n",
       "      <td>2</td>\n",
       "      <td>2</td>\n",
       "      <td>2</td>\n",
       "      <td>2</td>\n",
       "      <td>2</td>\n",
       "      <td>2</td>\n",
       "      <td>2</td>\n",
       "      <td>2</td>\n",
       "      <td>2</td>\n",
       "      <td>...</td>\n",
       "      <td>2</td>\n",
       "      <td>2</td>\n",
       "      <td>2</td>\n",
       "      <td>2</td>\n",
       "      <td>2</td>\n",
       "      <td>2</td>\n",
       "      <td>2</td>\n",
       "      <td>2</td>\n",
       "      <td>2</td>\n",
       "      <td>111</td>\n",
       "    </tr>\n",
       "  </tbody>\n",
       "</table>\n",
       "<p>4 rows × 313 columns</p>\n",
       "</div>"
      ],
      "text/plain": [
       "0                 f1           f2             f3           f4          f5  \\\n",
       "count            999          999            999          999         999   \n",
       "unique           995          995            995          995         995   \n",
       "top     0.0035946427  -0.06233317  -0.0028766212  -0.09204614  0.04823146   \n",
       "freq               2            2              2            2           2   \n",
       "\n",
       "0                f6           f7            f8             f9          f10  \\\n",
       "count           999          999           999            999          999   \n",
       "unique          995          995           995            995          995   \n",
       "top     0.012077088  -0.01132093  -0.017875532  -0.0048587644  -0.08030733   \n",
       "freq              2            2             2              2            2   \n",
       "\n",
       "0       ...        f304          f305         f306         f307          f308  \\\n",
       "count   ...         999           999          999          999           999   \n",
       "unique  ...         995           995          995          995           995   \n",
       "top     ...  0.11977875  0.0052645686  -0.05049079  0.029357938  -0.029485706   \n",
       "freq    ...           2             2            2            2             2   \n",
       "\n",
       "0               f309         f310        f311          f312       content  \n",
       "count            999          999         999           999           999  \n",
       "unique           995          995         995           994             9  \n",
       "top     -0.059161615  0.022147877  0.03670913  -0.026194142  acquaintance  \n",
       "freq               2            2           2             2           111  \n",
       "\n",
       "[4 rows x 313 columns]"
      ]
     },
     "execution_count": 187,
     "metadata": {},
     "output_type": "execute_result"
    }
   ],
   "source": [
    "df.describe()"
   ]
  },
  {
   "cell_type": "markdown",
   "id": "058337c0",
   "metadata": {},
   "source": [
    "Several dublicate values are present in the dataset. As the amount is insignificant, supposedly, no decrease in model performance might be arisen."
   ]
  },
  {
   "cell_type": "code",
   "execution_count": 15,
   "id": "10f22d2a",
   "metadata": {},
   "outputs": [
    {
     "data": {
      "text/plain": [
       "array(['acquaintance', 'apology', 'bye', 'complaints', 'coolness', 'envy',\n",
       "       'greeting', 'happiness', 'pain', 'thanks'], dtype=object)"
      ]
     },
     "execution_count": 15,
     "metadata": {},
     "output_type": "execute_result"
    }
   ],
   "source": [
    "df['content'].unique()"
   ]
  },
  {
   "cell_type": "code",
   "execution_count": 16,
   "id": "8a72139d",
   "metadata": {},
   "outputs": [
    {
     "name": "stdout",
     "output_type": "stream",
     "text": [
      "Total number of data: 1110\n",
      "Split by content:\n",
      "acquaintance    111\n",
      "apology         111\n",
      "bye             111\n",
      "complaints      111\n",
      "coolness        111\n",
      "envy            111\n",
      "greeting        111\n",
      "happiness       111\n",
      "pain            111\n",
      "thanks          111\n",
      "Name: content, dtype: int64\n",
      "Number of contents: 10\n"
     ]
    }
   ],
   "source": [
    "print('Total number of data: {}'.format(len(df)))\n",
    "print('Split by content:')\n",
    "print(df[\"content\"].value_counts())\n",
    "nr_contents = len(df[\"content\"].unique())\n",
    "print(\"Number of contents: {n}\".format(n=nr_contents))"
   ]
  },
  {
   "cell_type": "markdown",
   "id": "ac029c03",
   "metadata": {},
   "source": [
    "## Test-train split"
   ]
  },
  {
   "cell_type": "code",
   "execution_count": 6,
   "id": "9e88b9d8",
   "metadata": {},
   "outputs": [],
   "source": [
    "# Renaming, Input -> X, Output -> y\n",
    "X = df.drop('content', axis = 1)\n",
    "y = df['content']\n",
    "# Split into Training and Test sets\n",
    "X_train, X_test, y_train, y_test = train_test_split(X, y, test_size=0.3, random_state=101, stratify=df['content'])"
   ]
  },
  {
   "cell_type": "markdown",
   "id": "25ec5f92",
   "metadata": {},
   "source": [
    "### Logistic Regression"
   ]
  },
  {
   "cell_type": "code",
   "execution_count": 7,
   "id": "d4b6a672",
   "metadata": {},
   "outputs": [
    {
     "name": "stdout",
     "output_type": "stream",
     "text": [
      "Accuracy Training data: 90.9%\n",
      "Accuracy Test data: 79.3%\n",
      "Training time: 0.2s\n"
     ]
    }
   ],
   "source": [
    "model_logp = LogisticRegression(penalty='l2', C = 12.43, max_iter=1000, solver = 'liblinear') # implement L2 regularization into the model \n",
    "\n",
    "start_time = datetime.now()\n",
    "model_logp.fit(X_train, y_train)\n",
    "end_time = datetime.now()\n",
    "\n",
    "training_time = (end_time - start_time).total_seconds()\n",
    "\n",
    "predicted_train = model_logp.predict(X_train)\n",
    "accuracy_train = accuracy_score(y_train, predicted_train)\n",
    "print('Accuracy Training data: {:.1%}'.format(accuracy_train))\n",
    "\n",
    "predicted_test = model_logp.predict(X_test)\n",
    "accuracy_test = accuracy_score(y_test, predicted_test)\n",
    "print('Accuracy Test data: {:.1%}'.format(accuracy_test))\n",
    "\n",
    "print('Training time: {:.1f}s'.format(training_time))"
   ]
  },
  {
   "cell_type": "code",
   "execution_count": 8,
   "id": "68d468f6",
   "metadata": {},
   "outputs": [],
   "source": [
    "def report(model):\n",
    "    preds = model.predict(X_test)\n",
    "    print(classification_report(y_test,preds))\n",
    "    plot_confusion_matrix(model,X_test,y_test)\n",
    "    plt.rcParams[\"figure.figsize\"] = (10,10)"
   ]
  },
  {
   "cell_type": "code",
   "execution_count": 160,
   "id": "21dee739",
   "metadata": {},
   "outputs": [
    {
     "name": "stdout",
     "output_type": "stream",
     "text": [
      "NB MODEL\n",
      "              precision    recall  f1-score   support\n",
      "\n",
      "acquaintance       0.86      0.97      0.91        33\n",
      "     apology       0.84      0.91      0.87        34\n",
      "         bye       0.73      0.73      0.73        33\n",
      "  complaints       0.73      0.48      0.58        33\n",
      "    coolness       0.67      0.79      0.72        33\n",
      "        envy       0.81      0.64      0.71        33\n",
      "    greeting       0.84      0.79      0.82        34\n",
      "   happiness       0.79      0.79      0.79        34\n",
      "        pain       0.81      0.88      0.84        33\n",
      "      thanks       0.84      0.94      0.89        33\n",
      "\n",
      "    accuracy                           0.79       333\n",
      "   macro avg       0.79      0.79      0.79       333\n",
      "weighted avg       0.79      0.79      0.79       333\n",
      "\n"
     ]
    },
    {
     "name": "stderr",
     "output_type": "stream",
     "text": [
      "C:\\Users\\islam.iangurazov\\Anaconda3\\lib\\site-packages\\sklearn\\utils\\deprecation.py:87: FutureWarning: Function plot_confusion_matrix is deprecated; Function `plot_confusion_matrix` is deprecated in 1.0 and will be removed in 1.2. Use one of the class methods: ConfusionMatrixDisplay.from_predictions or ConfusionMatrixDisplay.from_estimator.\n",
      "  warnings.warn(msg, category=FutureWarning)\n"
     ]
    },
    {
     "data": {
      "image/png": "[encoded data removed]",
      "text/plain": [
       "<Figure size 432x288 with 2 Axes>"
      ]
     },
     "metadata": {
      "needs_background": "light"
     },
     "output_type": "display_data"
    }
   ],
   "source": [
    "print(\"NB MODEL\")\n",
    "report(model_logp)"
   ]
  },
  {
   "cell_type": "markdown",
   "id": "c7b98932",
   "metadata": {},
   "source": [
    "#### Saving the model"
   ]
  },
  {
   "cell_type": "code",
   "execution_count": 9,
   "id": "419b5ef0",
   "metadata": {},
   "outputs": [],
   "source": [
    "final_model = LogisticRegression(penalty='l2', C = 12.43, max_iter=1000, solver = 'liblinear')"
   ]
  },
  {
   "cell_type": "code",
   "execution_count": 10,
   "id": "99ecb477",
   "metadata": {},
   "outputs": [
    {
     "data": {
      "text/plain": [
       "LogisticRegression(C=12.43, max_iter=1000, solver='liblinear')"
      ]
     },
     "execution_count": 10,
     "metadata": {},
     "output_type": "execute_result"
    }
   ],
   "source": [
    "final_model.fit(X,y)"
   ]
  },
  {
   "cell_type": "code",
   "execution_count": 11,
   "id": "ca93a400",
   "metadata": {},
   "outputs": [],
   "source": [
    "from joblib import dump"
   ]
  },
  {
   "cell_type": "code",
   "execution_count": 12,
   "id": "7408bdb2",
   "metadata": {},
   "outputs": [
    {
     "data": {
      "text/plain": [
       "['final_logr_model.joblib']"
      ]
     },
     "execution_count": 12,
     "metadata": {},
     "output_type": "execute_result"
    }
   ],
   "source": [
    "dump(final_model, 'final_logr_model.joblib')"
   ]
  },
  {
   "cell_type": "code",
   "execution_count": 237,
   "id": "0fa479b2",
   "metadata": {},
   "outputs": [],
   "source": [
    "loaded_model = load('final_logr_model.joblib')"
   ]
  },
  {
   "cell_type": "code",
   "execution_count": 240,
   "id": "d8b4f739",
   "metadata": {},
   "outputs": [],
   "source": [
    "datum = pd.DataFrame(X.iloc[545]).T"
   ]
  },
  {
   "cell_type": "code",
   "execution_count": 241,
   "id": "0696006a",
   "metadata": {},
   "outputs": [
    {
     "data": {
      "text/html": [
       "<div>\n",
       "<style scoped>\n",
       "    .dataframe tbody tr th:only-of-type {\n",
       "        vertical-align: middle;\n",
       "    }\n",
       "\n",
       "    .dataframe tbody tr th {\n",
       "        vertical-align: top;\n",
       "    }\n",
       "\n",
       "    .dataframe thead th {\n",
       "        text-align: right;\n",
       "    }\n",
       "</style>\n",
       "<table border=\"1\" class=\"dataframe\">\n",
       "  <thead>\n",
       "    <tr style=\"text-align: right;\">\n",
       "      <th></th>\n",
       "      <th>f1</th>\n",
       "      <th>f2</th>\n",
       "      <th>f3</th>\n",
       "      <th>f4</th>\n",
       "      <th>f5</th>\n",
       "      <th>f6</th>\n",
       "      <th>f7</th>\n",
       "      <th>f8</th>\n",
       "      <th>f9</th>\n",
       "      <th>f10</th>\n",
       "      <th>...</th>\n",
       "      <th>f303</th>\n",
       "      <th>f304</th>\n",
       "      <th>f305</th>\n",
       "      <th>f306</th>\n",
       "      <th>f307</th>\n",
       "      <th>f308</th>\n",
       "      <th>f309</th>\n",
       "      <th>f310</th>\n",
       "      <th>f311</th>\n",
       "      <th>f312</th>\n",
       "    </tr>\n",
       "  </thead>\n",
       "  <tbody>\n",
       "    <tr>\n",
       "      <th>546</th>\n",
       "      <td>-0.0070497687</td>\n",
       "      <td>-0.012234291</td>\n",
       "      <td>0.009701455</td>\n",
       "      <td>-0.030251859</td>\n",
       "      <td>0.012549877</td>\n",
       "      <td>0.018532803</td>\n",
       "      <td>0.09468126</td>\n",
       "      <td>0.04226994</td>\n",
       "      <td>-0.02255645</td>\n",
       "      <td>-0.102367</td>\n",
       "      <td>...</td>\n",
       "      <td>0.019926911</td>\n",
       "      <td>0.017979482</td>\n",
       "      <td>-0.03466662</td>\n",
       "      <td>-0.029632792</td>\n",
       "      <td>0.07546883</td>\n",
       "      <td>0.009004497</td>\n",
       "      <td>-0.049025867</td>\n",
       "      <td>0.08595334</td>\n",
       "      <td>0.027079761</td>\n",
       "      <td>-0.102316245</td>\n",
       "    </tr>\n",
       "  </tbody>\n",
       "</table>\n",
       "<p>1 rows × 312 columns</p>\n",
       "</div>"
      ],
      "text/plain": [
       "0               f1            f2           f3            f4           f5  \\\n",
       "546  -0.0070497687  -0.012234291  0.009701455  -0.030251859  0.012549877   \n",
       "\n",
       "0             f6          f7          f8           f9        f10  ...  \\\n",
       "546  0.018532803  0.09468126  0.04226994  -0.02255645  -0.102367  ...   \n",
       "\n",
       "0           f303         f304         f305          f306        f307  \\\n",
       "546  0.019926911  0.017979482  -0.03466662  -0.029632792  0.07546883   \n",
       "\n",
       "0           f308          f309        f310         f311          f312  \n",
       "546  0.009004497  -0.049025867  0.08595334  0.027079761  -0.102316245  \n",
       "\n",
       "[1 rows x 312 columns]"
      ]
     },
     "execution_count": 241,
     "metadata": {},
     "output_type": "execute_result"
    }
   ],
   "source": [
    "datum"
   ]
  },
  {
   "cell_type": "code",
   "execution_count": 234,
   "id": "730d3162",
   "metadata": {},
   "outputs": [
    {
     "data": {
      "text/html": [
       "<div>\n",
       "<style scoped>\n",
       "    .dataframe tbody tr th:only-of-type {\n",
       "        vertical-align: middle;\n",
       "    }\n",
       "\n",
       "    .dataframe tbody tr th {\n",
       "        vertical-align: top;\n",
       "    }\n",
       "\n",
       "    .dataframe thead th {\n",
       "        text-align: right;\n",
       "    }\n",
       "</style>\n",
       "<table border=\"1\" class=\"dataframe\">\n",
       "  <thead>\n",
       "    <tr style=\"text-align: right;\">\n",
       "      <th></th>\n",
       "      <th>f1</th>\n",
       "      <th>f2</th>\n",
       "      <th>f3</th>\n",
       "      <th>f4</th>\n",
       "      <th>f5</th>\n",
       "      <th>f6</th>\n",
       "      <th>f7</th>\n",
       "      <th>f8</th>\n",
       "      <th>f9</th>\n",
       "      <th>f10</th>\n",
       "      <th>...</th>\n",
       "      <th>f303</th>\n",
       "      <th>f304</th>\n",
       "      <th>f305</th>\n",
       "      <th>f306</th>\n",
       "      <th>f307</th>\n",
       "      <th>f308</th>\n",
       "      <th>f309</th>\n",
       "      <th>f310</th>\n",
       "      <th>f311</th>\n",
       "      <th>f312</th>\n",
       "    </tr>\n",
       "  </thead>\n",
       "  <tbody>\n",
       "    <tr>\n",
       "      <th>546</th>\n",
       "      <td>-0.0070497687</td>\n",
       "      <td>-0.012234291</td>\n",
       "      <td>0.009701455</td>\n",
       "      <td>-0.030251859</td>\n",
       "      <td>0.012549877</td>\n",
       "      <td>0.018532803</td>\n",
       "      <td>0.09468126</td>\n",
       "      <td>0.04226994</td>\n",
       "      <td>-0.02255645</td>\n",
       "      <td>-0.102367</td>\n",
       "      <td>...</td>\n",
       "      <td>0.019926911</td>\n",
       "      <td>0.017979482</td>\n",
       "      <td>-0.03466662</td>\n",
       "      <td>-0.029632792</td>\n",
       "      <td>0.07546883</td>\n",
       "      <td>0.009004497</td>\n",
       "      <td>-0.049025867</td>\n",
       "      <td>0.08595334</td>\n",
       "      <td>0.027079761</td>\n",
       "      <td>-0.102316245</td>\n",
       "    </tr>\n",
       "  </tbody>\n",
       "</table>\n",
       "<p>1 rows × 312 columns</p>\n",
       "</div>"
      ],
      "text/plain": [
       "0               f1            f2           f3            f4           f5  \\\n",
       "546  -0.0070497687  -0.012234291  0.009701455  -0.030251859  0.012549877   \n",
       "\n",
       "0             f6          f7          f8           f9        f10  ...  \\\n",
       "546  0.018532803  0.09468126  0.04226994  -0.02255645  -0.102367  ...   \n",
       "\n",
       "0           f303         f304         f305          f306        f307  \\\n",
       "546  0.019926911  0.017979482  -0.03466662  -0.029632792  0.07546883   \n",
       "\n",
       "0           f308          f309        f310         f311          f312  \n",
       "546  0.009004497  -0.049025867  0.08595334  0.027079761  -0.102316245  \n",
       "\n",
       "[1 rows x 312 columns]"
      ]
     },
     "execution_count": 234,
     "metadata": {},
     "output_type": "execute_result"
    }
   ],
   "source": [
    "tdatum"
   ]
  },
  {
   "cell_type": "code",
   "execution_count": 236,
   "id": "af1057ed",
   "metadata": {},
   "outputs": [
    {
     "data": {
      "text/plain": [
       "'coolness'"
      ]
     },
     "execution_count": 236,
     "metadata": {},
     "output_type": "execute_result"
    }
   ],
   "source": [
    "loaded_model.predict(tdatum)[0]"
   ]
  }
 ],
 "metadata": {
  "kernelspec": {
   "display_name": "Python 3 (ipykernel)",
   "language": "python",
   "name": "python3"
  },
  "language_info": {
   "codemirror_mode": {
    "name": "ipython",
    "version": 3
   },
   "file_extension": ".py",
   "mimetype": "text/x-python",
   "name": "python",
   "nbconvert_exporter": "python",
   "pygments_lexer": "ipython3",
   "version": "3.10.7"
  },
  "vscode": {
   "interpreter": {
    "hash": "4dc02ec2b0902c59c04a2ff3e0753d1cdd7689f9ffe74fa53562affdb9de9e93"
   }
  }
 },
 "nbformat": 4,
 "nbformat_minor": 5
}
